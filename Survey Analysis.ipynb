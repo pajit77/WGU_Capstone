{
 "cells": [
  {
   "cell_type": "markdown",
   "metadata": {},
   "source": [
    "## Survey analysis - WGU\n",
    "\n",
    "#### Analysis with data from 28 April 2018\n",
    "##### Survey Response = 26 Instructors from business college\n",
    "\n",
    "@All Easiest way to read this - Ignore all the code in the gray boxes. Read everything else.\n",
    "\n"
   ]
  },
  {
   "cell_type": "code",
   "execution_count": 1,
   "metadata": {
    "collapsed": true
   },
   "outputs": [],
   "source": [
    "import pandas as pd"
   ]
  },
  {
   "cell_type": "code",
   "execution_count": 2,
   "metadata": {
    "collapsed": true
   },
   "outputs": [],
   "source": [
    "filename = 'Course Instructor Survey.csv'\n",
    "\n",
    "data = pd.read_csv(filename)"
   ]
  },
  {
   "cell_type": "markdown",
   "metadata": {},
   "source": [
    "### All rating questions <br/>\n",
    "\n",
    "@Yejin in this table below you will find the mean and standard deviation of all the rating questions that we asked in the survey\n"
   ]
  },
  {
   "cell_type": "code",
   "execution_count": 3,
   "metadata": {},
   "outputs": [
    {
     "data": {
      "text/html": [
       "<div>\n",
       "<style>\n",
       "    .dataframe thead tr:only-child th {\n",
       "        text-align: right;\n",
       "    }\n",
       "\n",
       "    .dataframe thead th {\n",
       "        text-align: left;\n",
       "    }\n",
       "\n",
       "    .dataframe tbody tr th {\n",
       "        vertical-align: top;\n",
       "    }\n",
       "</style>\n",
       "<table border=\"1\" class=\"dataframe\">\n",
       "  <thead>\n",
       "    <tr style=\"text-align: right;\">\n",
       "      <th></th>\n",
       "      <th>4. Overall, how satisfied are you with your ability to support student learning?</th>\n",
       "      <th>5. Overall, how relevant are the WGU course competencies to your industry?</th>\n",
       "      <th>6. How well do you feel students understand course competencies as goals of their study?</th>\n",
       "      <th>7. Overall, how well do you feel the instructional content of courses align with the course competencies?</th>\n",
       "      <th>9. Indicate your level of interest in creating quiz items to achieve an ongoing understanding of student progress.</th>\n",
       "      <th>14. How well does course content typically prepare students for the objective assessment?</th>\n",
       "      <th>15. What information helps you determine when students need extra support?</th>\n",
       "      <th>17. How comfortable are you using the media production technology (laptops, A/V) provided by WGU?</th>\n",
       "    </tr>\n",
       "  </thead>\n",
       "  <tbody>\n",
       "    <tr>\n",
       "      <th>count</th>\n",
       "      <td>26.000000</td>\n",
       "      <td>26.000000</td>\n",
       "      <td>26.000000</td>\n",
       "      <td>26.000000</td>\n",
       "      <td>26.000000</td>\n",
       "      <td>26.00</td>\n",
       "      <td>26.000000</td>\n",
       "      <td>26.000000</td>\n",
       "    </tr>\n",
       "    <tr>\n",
       "      <th>mean</th>\n",
       "      <td>4.307692</td>\n",
       "      <td>4.153846</td>\n",
       "      <td>3.384615</td>\n",
       "      <td>3.769231</td>\n",
       "      <td>4.153846</td>\n",
       "      <td>4.00</td>\n",
       "      <td>2.692308</td>\n",
       "      <td>4.230769</td>\n",
       "    </tr>\n",
       "    <tr>\n",
       "      <th>std</th>\n",
       "      <td>0.679366</td>\n",
       "      <td>0.924870</td>\n",
       "      <td>0.803837</td>\n",
       "      <td>0.815239</td>\n",
       "      <td>1.084152</td>\n",
       "      <td>0.80</td>\n",
       "      <td>0.788377</td>\n",
       "      <td>0.951113</td>\n",
       "    </tr>\n",
       "    <tr>\n",
       "      <th>min</th>\n",
       "      <td>3.000000</td>\n",
       "      <td>2.000000</td>\n",
       "      <td>2.000000</td>\n",
       "      <td>2.000000</td>\n",
       "      <td>1.000000</td>\n",
       "      <td>2.00</td>\n",
       "      <td>1.000000</td>\n",
       "      <td>2.000000</td>\n",
       "    </tr>\n",
       "    <tr>\n",
       "      <th>25%</th>\n",
       "      <td>4.000000</td>\n",
       "      <td>4.000000</td>\n",
       "      <td>3.000000</td>\n",
       "      <td>3.000000</td>\n",
       "      <td>4.000000</td>\n",
       "      <td>4.00</td>\n",
       "      <td>2.000000</td>\n",
       "      <td>4.000000</td>\n",
       "    </tr>\n",
       "    <tr>\n",
       "      <th>50%</th>\n",
       "      <td>4.000000</td>\n",
       "      <td>4.000000</td>\n",
       "      <td>3.500000</td>\n",
       "      <td>4.000000</td>\n",
       "      <td>4.500000</td>\n",
       "      <td>4.00</td>\n",
       "      <td>3.000000</td>\n",
       "      <td>4.500000</td>\n",
       "    </tr>\n",
       "    <tr>\n",
       "      <th>75%</th>\n",
       "      <td>5.000000</td>\n",
       "      <td>5.000000</td>\n",
       "      <td>4.000000</td>\n",
       "      <td>4.000000</td>\n",
       "      <td>5.000000</td>\n",
       "      <td>4.75</td>\n",
       "      <td>3.000000</td>\n",
       "      <td>5.000000</td>\n",
       "    </tr>\n",
       "    <tr>\n",
       "      <th>max</th>\n",
       "      <td>5.000000</td>\n",
       "      <td>5.000000</td>\n",
       "      <td>5.000000</td>\n",
       "      <td>5.000000</td>\n",
       "      <td>5.000000</td>\n",
       "      <td>5.00</td>\n",
       "      <td>4.000000</td>\n",
       "      <td>5.000000</td>\n",
       "    </tr>\n",
       "  </tbody>\n",
       "</table>\n",
       "</div>"
      ],
      "text/plain": [
       "       4. Overall, how satisfied are you with your ability to support student learning?  \\\n",
       "count                                          26.000000                                  \n",
       "mean                                            4.307692                                  \n",
       "std                                             0.679366                                  \n",
       "min                                             3.000000                                  \n",
       "25%                                             4.000000                                  \n",
       "50%                                             4.000000                                  \n",
       "75%                                             5.000000                                  \n",
       "max                                             5.000000                                  \n",
       "\n",
       "       5. Overall, how relevant are the WGU course competencies to your industry?   \\\n",
       "count                                          26.000000                             \n",
       "mean                                            4.153846                             \n",
       "std                                             0.924870                             \n",
       "min                                             2.000000                             \n",
       "25%                                             4.000000                             \n",
       "50%                                             4.000000                             \n",
       "75%                                             5.000000                             \n",
       "max                                             5.000000                             \n",
       "\n",
       "       6. How well do you feel students understand course competencies as goals of their study?  \\\n",
       "count                                          26.000000                                          \n",
       "mean                                            3.384615                                          \n",
       "std                                             0.803837                                          \n",
       "min                                             2.000000                                          \n",
       "25%                                             3.000000                                          \n",
       "50%                                             3.500000                                          \n",
       "75%                                             4.000000                                          \n",
       "max                                             5.000000                                          \n",
       "\n",
       "       7. Overall, how well do you feel the instructional content of courses align with the course competencies?   \\\n",
       "count                                          26.000000                                                            \n",
       "mean                                            3.769231                                                            \n",
       "std                                             0.815239                                                            \n",
       "min                                             2.000000                                                            \n",
       "25%                                             3.000000                                                            \n",
       "50%                                             4.000000                                                            \n",
       "75%                                             4.000000                                                            \n",
       "max                                             5.000000                                                            \n",
       "\n",
       "       9. Indicate your level of interest in creating quiz items to achieve an ongoing understanding of student progress.  \\\n",
       "count                                          26.000000                                                                    \n",
       "mean                                            4.153846                                                                    \n",
       "std                                             1.084152                                                                    \n",
       "min                                             1.000000                                                                    \n",
       "25%                                             4.000000                                                                    \n",
       "50%                                             4.500000                                                                    \n",
       "75%                                             5.000000                                                                    \n",
       "max                                             5.000000                                                                    \n",
       "\n",
       "       14. How well does course content typically prepare students for the objective assessment?  \\\n",
       "count                                              26.00                                           \n",
       "mean                                                4.00                                           \n",
       "std                                                 0.80                                           \n",
       "min                                                 2.00                                           \n",
       "25%                                                 4.00                                           \n",
       "50%                                                 4.00                                           \n",
       "75%                                                 4.75                                           \n",
       "max                                                 5.00                                           \n",
       "\n",
       "       15. What information helps you determine when students need extra support?  \\\n",
       "count                                          26.000000                            \n",
       "mean                                            2.692308                            \n",
       "std                                             0.788377                            \n",
       "min                                             1.000000                            \n",
       "25%                                             2.000000                            \n",
       "50%                                             3.000000                            \n",
       "75%                                             3.000000                            \n",
       "max                                             4.000000                            \n",
       "\n",
       "       17. How comfortable are you using the media production technology (laptops, A/V) provided by WGU?  \n",
       "count                                          26.000000                                                  \n",
       "mean                                            4.230769                                                  \n",
       "std                                             0.951113                                                  \n",
       "min                                             2.000000                                                  \n",
       "25%                                             4.000000                                                  \n",
       "50%                                             4.500000                                                  \n",
       "75%                                             5.000000                                                  \n",
       "max                                             5.000000                                                  "
      ]
     },
     "execution_count": 3,
     "metadata": {},
     "output_type": "execute_result"
    }
   ],
   "source": [
    "data.describe()"
   ]
  },
  {
   "cell_type": "code",
   "execution_count": 4,
   "metadata": {
    "collapsed": true
   },
   "outputs": [],
   "source": [
    "cols = data.columns"
   ]
  },
  {
   "cell_type": "code",
   "execution_count": 5,
   "metadata": {
    "collapsed": true
   },
   "outputs": [],
   "source": [
    "col_vals = data[cols[1]].tolist()"
   ]
  },
  {
   "cell_type": "code",
   "execution_count": 6,
   "metadata": {
    "collapsed": true
   },
   "outputs": [],
   "source": [
    "from matplotlib import pyplot as plt"
   ]
  },
  {
   "cell_type": "markdown",
   "metadata": {},
   "source": [
    "### Question 1 : Number of people in each category of years of experience at WGU"
   ]
  },
  {
   "cell_type": "code",
   "execution_count": 7,
   "metadata": {},
   "outputs": [
    {
     "data": {
      "image/png": "[encoded data removed]",
      "text/plain": [
       "<matplotlib.figure.Figure at 0x1fe25888e10>"
      ]
     },
     "metadata": {},
     "output_type": "display_data"
    }
   ],
   "source": [
    "plt.hist(col_vals)\n",
    "plt.show()"
   ]
  },
  {
   "cell_type": "code",
   "execution_count": 8,
   "metadata": {},
   "outputs": [],
   "source": [
    "import collections\n",
    "counter=collections.Counter(col_vals)\n",
    "#print(counter)\n",
    "summer = sum(counter.values())\n",
    "for key in counter.keys():\n",
    "    counter[key] = int(100*counter[key]/summer)\n",
    "\n"
   ]
  },
  {
   "cell_type": "markdown",
   "metadata": {},
   "source": [
    "#### Percentage of People in each category of experience <br/>\n",
    "\n",
    "\n",
    "@Yejin here you will find the percentage of people in each category of years of experience.\n",
    "For example 1 or less is 30% of people, 2 is 15% of people"
   ]
  },
  {
   "cell_type": "code",
   "execution_count": 9,
   "metadata": {},
   "outputs": [
    {
     "name": "stdout",
     "output_type": "stream",
     "text": [
      "Counter({'1 or less': 30, '2': 15, '3': 11, '4': 11, '6': 7, '7': 7, '5': 7, '10+': 3, '8': 3})\n"
     ]
    }
   ],
   "source": [
    "print (counter)"
   ]
  },
  {
   "cell_type": "markdown",
   "metadata": {},
   "source": [
    "### Question 2: Number of years of teaching experience (in the graph) and percentage (printed out)\n",
    "\n",
    "@Yejin read it similar to Question 1"
   ]
  },
  {
   "cell_type": "code",
   "execution_count": 10,
   "metadata": {},
   "outputs": [
    {
     "data": {
      "image/png": "[encoded data removed]",
      "text/plain": [
       "<matplotlib.figure.Figure at 0x1fe268a79e8>"
      ]
     },
     "metadata": {},
     "output_type": "display_data"
    },
    {
     "name": "stdout",
     "output_type": "stream",
     "text": [
      "Counter({'10+': 61, '8': 15, '7': 7, '5': 3, '6': 3, '1': 3, '9': 3})\n"
     ]
    }
   ],
   "source": [
    "col_vals = data[cols[2]].tolist()\n",
    "plt.hist(col_vals)\n",
    "plt.show()\n",
    "import collections\n",
    "counter=collections.Counter(col_vals)\n",
    "#print(counter)\n",
    "summer = sum(counter.values())\n",
    "for key in counter.keys():\n",
    "    counter[key] = int(100*counter[key]/summer)\n",
    "print (counter)"
   ]
  },
  {
   "cell_type": "markdown",
   "metadata": {},
   "source": [
    "### Question 3"
   ]
  },
  {
   "cell_type": "code",
   "execution_count": 11,
   "metadata": {},
   "outputs": [
    {
     "data": {
      "text/plain": [
       "{'After school program': 2,\n",
       " 'College / university professor (online or in classroom)': 24,\n",
       " 'K-12 teacher': 2,\n",
       " 'None of these': 2,\n",
       " 'Teaching assistant': 3}"
      ]
     },
     "execution_count": 11,
     "metadata": {},
     "output_type": "execute_result"
    }
   ],
   "source": [
    "col_vals = data[cols[3]].tolist()\n",
    "total = len(col_vals)\n",
    "exp_dict = {}\n",
    "\n",
    "for val in col_vals:\n",
    "    exp_types = val.split(';')\n",
    "    for exp_type in exp_types:\n",
    "        if exp_type in exp_dict.keys():\n",
    "            exp_dict[exp_type]+=1\n",
    "        else:\n",
    "            exp_dict[exp_type]=1\n",
    "\n",
    "#plt.hist(exp_dict)\n",
    "#plt.show()\n",
    "exp_dict"
   ]
  },
  {
   "cell_type": "markdown",
   "metadata": {},
   "source": [
    "### Question 8"
   ]
  },
  {
   "cell_type": "code",
   "execution_count": 12,
   "metadata": {},
   "outputs": [
    {
     "data": {
      "text/plain": [
       "{'Practice quizzes / assessments': 22,\n",
       " 'Supplemental instructional content': 25}"
      ]
     },
     "execution_count": 12,
     "metadata": {},
     "output_type": "execute_result"
    }
   ],
   "source": [
    "col_vals = data[cols[8]].tolist()\n",
    "total = len(col_vals)\n",
    "exp_dict = {}\n",
    "\n",
    "for val in col_vals:\n",
    "    exp_types = val.split(';')\n",
    "    for exp_type in exp_types:\n",
    "        if exp_type in exp_dict.keys():\n",
    "            exp_dict[exp_type]+=1\n",
    "        else:\n",
    "            exp_dict[exp_type]=1\n",
    "\n",
    "#plt.hist(exp_dict)\n",
    "#plt.show()\n",
    "exp_dict"
   ]
  },
  {
   "cell_type": "code",
   "execution_count": 13,
   "metadata": {},
   "outputs": [
    {
     "data": {
      "text/plain": [
       "{'Practice quizzes / assessments': 84,\n",
       " 'Supplemental instructional content': 96}"
      ]
     },
     "execution_count": 13,
     "metadata": {},
     "output_type": "execute_result"
    }
   ],
   "source": [
    "for key in exp_dict.keys():\n",
    "    exp_dict[key] = int(100*exp_dict[key]/total)\n",
    "exp_dict"
   ]
  },
  {
   "cell_type": "markdown",
   "metadata": {},
   "source": [
    "@Yejin - Printed above is the precentage of respondents using assessments, precentage of respondents using instructional content. for eg : 84% of instructors say they create practice assessments "
   ]
  },
  {
   "cell_type": "markdown",
   "metadata": {},
   "source": [
    "### Question 10"
   ]
  },
  {
   "cell_type": "code",
   "execution_count": 14,
   "metadata": {},
   "outputs": [
    {
     "data": {
      "image/png": "[encoded data removed]",
      "text/plain": [
       "<matplotlib.figure.Figure at 0x1fe2690dda0>"
      ]
     },
     "metadata": {},
     "output_type": "display_data"
    },
    {
     "data": {
      "text/plain": [
       "{'Course chatter': 22,\n",
       " 'Email': 26,\n",
       " 'Google Drive': 4,\n",
       " 'Phone': 26,\n",
       " 'Webinar / video chat': 24}"
      ]
     },
     "execution_count": 14,
     "metadata": {},
     "output_type": "execute_result"
    }
   ],
   "source": [
    "col_vals = data[cols[10]].tolist()\n",
    "total = len(col_vals)\n",
    "exp_dict = {}\n",
    "\n",
    "for val in col_vals:\n",
    "    exp_types = val.split(';')\n",
    "    for exp_type in exp_types:\n",
    "        if exp_type in exp_dict.keys():\n",
    "            exp_dict[exp_type]+=1\n",
    "        else:\n",
    "            exp_dict[exp_type]=1\n",
    "\n",
    "plt.bar(list(exp_dict.keys()), exp_dict.values(), color='b')\n",
    "plt.show()\n",
    "exp_dict"
   ]
  },
  {
   "cell_type": "code",
   "execution_count": 15,
   "metadata": {},
   "outputs": [
    {
     "data": {
      "text/plain": [
       "{'Course chatter': 84,\n",
       " 'Email': 100,\n",
       " 'Google Drive': 15,\n",
       " 'Phone': 100,\n",
       " 'Webinar / video chat': 92}"
      ]
     },
     "execution_count": 15,
     "metadata": {},
     "output_type": "execute_result"
    }
   ],
   "source": [
    "for key in exp_dict.keys():\n",
    "    exp_dict[key] = int(100*exp_dict[key]/total)\n",
    "exp_dict"
   ]
  },
  {
   "cell_type": "markdown",
   "metadata": {},
   "source": [
    "@ Yejin read the above similar to previous question"
   ]
  },
  {
   "cell_type": "markdown",
   "metadata": {},
   "source": [
    "### Question 11"
   ]
  },
  {
   "cell_type": "code",
   "execution_count": 16,
   "metadata": {},
   "outputs": [
    {
     "data": {
      "image/png": "[encoded data removed]",
      "text/plain": [
       "<matplotlib.figure.Figure at 0x1fe268eab00>"
      ]
     },
     "metadata": {},
     "output_type": "display_data"
    },
    {
     "data": {
      "text/plain": [
       "{'Course study page': 6,\n",
       " 'Email': 15,\n",
       " 'Knowledge base articles': 2,\n",
       " 'Other tools / communities outside of WGU': 1,\n",
       " 'Other tools / communities provided by WGU': 2}"
      ]
     },
     "execution_count": 16,
     "metadata": {},
     "output_type": "execute_result"
    }
   ],
   "source": [
    "col_vals = data[cols[11]].tolist()\n",
    "total = len(col_vals)\n",
    "exp_dict = {}\n",
    "\n",
    "for val in col_vals:\n",
    "    exp_types = val.split(';')\n",
    "    for exp_type in exp_types:\n",
    "        if exp_type in exp_dict.keys():\n",
    "            exp_dict[exp_type]+=1\n",
    "        else:\n",
    "            exp_dict[exp_type]=1\n",
    "\n",
    "plt.bar(list(exp_dict.keys()), exp_dict.values(), color='b')\n",
    "plt.show()\n",
    "exp_dict"
   ]
  },
  {
   "cell_type": "code",
   "execution_count": 17,
   "metadata": {},
   "outputs": [
    {
     "data": {
      "text/plain": [
       "{'Course study page': 23,\n",
       " 'Email': 57,\n",
       " 'Knowledge base articles': 7,\n",
       " 'Other tools / communities outside of WGU': 3,\n",
       " 'Other tools / communities provided by WGU': 7}"
      ]
     },
     "execution_count": 17,
     "metadata": {},
     "output_type": "execute_result"
    }
   ],
   "source": [
    "for key in exp_dict.keys():\n",
    "    exp_dict[key] = int(100*exp_dict[key]/total)\n",
    "exp_dict"
   ]
  },
  {
   "cell_type": "markdown",
   "metadata": {},
   "source": [
    "### Question 13"
   ]
  },
  {
   "cell_type": "code",
   "execution_count": 18,
   "metadata": {},
   "outputs": [
    {
     "data": {
      "image/png": "[encoded data removed]",
      "text/plain": [
       "<matplotlib.figure.Figure at 0x1fe26db6550>"
      ]
     },
     "metadata": {},
     "output_type": "display_data"
    },
    {
     "data": {
      "text/plain": [
       "{'Interactive learning modules / websites': 12,\n",
       " 'Text documents / PDfs': 23,\n",
       " 'Webinars and recordings': 24}"
      ]
     },
     "execution_count": 18,
     "metadata": {},
     "output_type": "execute_result"
    }
   ],
   "source": [
    "col_vals = data[cols[13]].tolist()\n",
    "total = len(col_vals)\n",
    "exp_dict = {}\n",
    "\n",
    "for val in col_vals:\n",
    "    exp_types = val.split(';')\n",
    "    for exp_type in exp_types:\n",
    "        if exp_type in exp_dict.keys():\n",
    "            exp_dict[exp_type]+=1\n",
    "        else:\n",
    "            exp_dict[exp_type]=1\n",
    "\n",
    "plt.bar(list(exp_dict.keys()), exp_dict.values(), color='b')\n",
    "plt.show()\n",
    "exp_dict"
   ]
  },
  {
   "cell_type": "code",
   "execution_count": 19,
   "metadata": {},
   "outputs": [
    {
     "data": {
      "text/plain": [
       "{'Interactive learning modules / websites': 46,\n",
       " 'Text documents / PDfs': 88,\n",
       " 'Webinars and recordings': 92}"
      ]
     },
     "execution_count": 19,
     "metadata": {},
     "output_type": "execute_result"
    }
   ],
   "source": [
    "for key in exp_dict.keys():\n",
    "    exp_dict[key] = int(100*exp_dict[key]/total)\n",
    "exp_dict"
   ]
  },
  {
   "cell_type": "markdown",
   "metadata": {},
   "source": [
    "### Question 16"
   ]
  },
  {
   "cell_type": "code",
   "execution_count": 20,
   "metadata": {},
   "outputs": [
    {
     "data": {
      "image/png": "[encoded data removed]",
      "text/plain": [
       "<matplotlib.figure.Figure at 0x1fe26e18d68>"
      ]
     },
     "metadata": {},
     "output_type": "display_data"
    },
    {
     "data": {
      "text/plain": [
       "{'I don’t know what Academic Programs is': 10,\n",
       " 'I have heard about this department': 12,\n",
       " 'I have interacted with them': 4}"
      ]
     },
     "execution_count": 20,
     "metadata": {},
     "output_type": "execute_result"
    }
   ],
   "source": [
    "col_vals = data[cols[16]].tolist()\n",
    "total = len(col_vals)\n",
    "exp_dict = {}\n",
    "\n",
    "for val in col_vals:\n",
    "    exp_types = val.split(';')\n",
    "    for exp_type in exp_types:\n",
    "        if exp_type in exp_dict.keys():\n",
    "            exp_dict[exp_type]+=1\n",
    "        else:\n",
    "            exp_dict[exp_type]=1\n",
    "\n",
    "plt.bar(list(exp_dict.keys()), exp_dict.values(), color='b')\n",
    "plt.show()\n",
    "exp_dict"
   ]
  },
  {
   "cell_type": "code",
   "execution_count": 21,
   "metadata": {},
   "outputs": [
    {
     "data": {
      "text/plain": [
       "{'I don’t know what Academic Programs is': 38,\n",
       " 'I have heard about this department': 46,\n",
       " 'I have interacted with them': 15}"
      ]
     },
     "execution_count": 21,
     "metadata": {},
     "output_type": "execute_result"
    }
   ],
   "source": [
    "\n",
    "for key in exp_dict.keys():\n",
    "    exp_dict[key] = int(100*exp_dict[key]/total)\n",
    "exp_dict"
   ]
  },
  {
   "cell_type": "code",
   "execution_count": 22,
   "metadata": {
    "collapsed": true
   },
   "outputs": [],
   "source": [
    "### Question 18 - pending."
   ]
  },
  {
   "cell_type": "code",
   "execution_count": null,
   "metadata": {
    "collapsed": true
   },
   "outputs": [],
   "source": []
  }
 ],
 "metadata": {
  "kernelspec": {
   "display_name": "Python 3",
   "language": "python",
   "name": "python3"
  },
  "language_info": {
   "codemirror_mode": {
    "name": "ipython",
    "version": 3
   },
   "file_extension": ".py",
   "mimetype": "text/x-python",
   "name": "python",
   "nbconvert_exporter": "python",
   "pygments_lexer": "ipython3",
   "version": "3.6.3"
  }
 },
 "nbformat": 4,
 "nbformat_minor": 2
}
